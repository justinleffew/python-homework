{
 "cells": [
  {
   "cell_type": "code",
   "execution_count": 166,
   "id": "ff42c4f0-08ea-4c68-856b-f6049d7a5188",
   "metadata": {},
   "outputs": [
    {
     "name": "stdout",
     "output_type": "stream",
     "text": [
      "Financial Analysis\n",
      "------------------\n",
      "Total Months: 86\n",
      "Total: $38382578\n",
      "Average Change: $-2315.12\n",
      "Greatest Increase in Profits: Feb-2012 $1926159\n",
      "Greatest Decrease in Profits: Sep-2013 $-2196167\n"
     ]
    }
   ],
   "source": [
    "# Import the pathlib and csv library\n",
    "import pandas as pd\n",
    "from pathlib import Path\n",
    "import csv\n",
    "\n",
    "# Set the csv path\n",
    "csvpath = Path(\"budget_data.csv\")\n",
    "\n",
    "# create a Pandas dataframe from csv file\n",
    "df = pd.read_csv(csvpath)\n",
    "\n",
    "\n",
    "# df.value_counts().shape[0] is a function\n",
    "# in basic python, use for loop to calculate total\n",
    "\n",
    "print(f\"Financial Analysis\")\n",
    "print(f\"------------------\")\n",
    "print(f\"Total Months:\",df.shape[0])\n",
    "print(f\"Total: $\"+str(sum(df[\"Profit/Losses\"])))\n",
    "\n",
    "# getting difference between rows of Profit/Losses Column\n",
    "df_differences = df[\"Profit/Losses\"].diff()\n",
    "\n",
    "print(f\"Average Change: $\"+str(round(sum(df_differences.dropna())/df_differences.dropna().shape[0],2)))\n",
    "\n",
    "new_df = df\n",
    "new_df[\"Profit/Losses Diff\"] = df_differences\n",
    "\n",
    "min = df_differences.min()\n",
    "max = df_differences.max()\n",
    "\n",
    "\n",
    "min_date = new_df[new_df[\"Profit/Losses Diff\"] == min]\n",
    "max_date = new_df[new_df[\"Profit/Losses Diff\"] == max]\n",
    "\n",
    "\n",
    "print(f\"Greatest Increase in Profits:\",max_date[\"Date\"][25],\"$\"+str(int(max)))\n",
    "print(f\"Greatest Decrease in Profits:\",min_date[\"Date\"][44],\"$\"+str(int(min)))\n",
    "      \n",
    "\n"
   ]
  },
  {
   "cell_type": "code",
   "execution_count": null,
   "id": "f0e23858-0a10-4849-b12f-865af633f3b9",
   "metadata": {},
   "outputs": [],
   "source": []
  }
 ],
 "metadata": {
  "kernelspec": {
   "display_name": "Python 3 (ipykernel)",
   "language": "python",
   "name": "python3"
  },
  "language_info": {
   "codemirror_mode": {
    "name": "ipython",
    "version": 3
   },
   "file_extension": ".py",
   "mimetype": "text/x-python",
   "name": "python",
   "nbconvert_exporter": "python",
   "pygments_lexer": "ipython3",
   "version": "3.7.11"
  }
 },
 "nbformat": 4,
 "nbformat_minor": 5
}
